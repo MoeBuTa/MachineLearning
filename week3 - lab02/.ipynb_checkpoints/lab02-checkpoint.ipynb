{
 "cells": [
  {
   "cell_type": "markdown",
   "id": "d1f44a5c",
   "metadata": {},
   "source": [
    "# Lab02\n",
    "### Wenxiao Zhang 22792191"
   ]
  },
  {
   "cell_type": "markdown",
   "id": "876e9f18",
   "metadata": {},
   "source": [
    "## Section 1\n",
    "### 1.1 Read in the contents of both csv files."
   ]
  },
  {
   "cell_type": "code",
   "execution_count": 1,
   "id": "f7fe54da",
   "metadata": {},
   "outputs": [],
   "source": [
    "import pandas as pd\n",
    "\n",
    "\n",
    "training_stats = pd.read_csv(\"training.csv\")\n",
    "testing_stats = pd.read_csv(\"testing.csv\")"
   ]
  },
  {
   "cell_type": "markdown",
   "id": "8ac5e27b",
   "metadata": {},
   "source": [
    "### 1.2 Inspect the columns and first few lines of both files."
   ]
  },
  {
   "cell_type": "code",
   "execution_count": 2,
   "id": "07b2f893",
   "metadata": {
    "scrolled": true
   },
   "outputs": [
    {
     "data": {
      "text/plain": [
       "Index(['class', 'b1', 'b2', 'b3', 'b4', 'b5', 'b6', 'b7', 'b8', 'b9',\n",
       "       'pred_minus_obs_H_b1', 'pred_minus_obs_H_b2', 'pred_minus_obs_H_b3',\n",
       "       'pred_minus_obs_H_b4', 'pred_minus_obs_H_b5', 'pred_minus_obs_H_b6',\n",
       "       'pred_minus_obs_H_b7', 'pred_minus_obs_H_b8', 'pred_minus_obs_H_b9',\n",
       "       'pred_minus_obs_S_b1', 'pred_minus_obs_S_b2', 'pred_minus_obs_S_b3',\n",
       "       'pred_minus_obs_S_b4', 'pred_minus_obs_S_b5', 'pred_minus_obs_S_b6',\n",
       "       'pred_minus_obs_S_b7', 'pred_minus_obs_S_b8', 'pred_minus_obs_S_b9'],\n",
       "      dtype='object')"
      ]
     },
     "execution_count": 2,
     "metadata": {},
     "output_type": "execute_result"
    }
   ],
   "source": [
    "training_stats.columns"
   ]
  },
  {
   "cell_type": "code",
   "execution_count": 3,
   "id": "d8458b94",
   "metadata": {
    "scrolled": true
   },
   "outputs": [
    {
     "data": {
      "text/plain": [
       "Index(['class', 'b1', 'b2', 'b3', 'b4', 'b5', 'b6', 'b7', 'b8', 'b9',\n",
       "       'pred_minus_obs_H_b1', 'pred_minus_obs_H_b2', 'pred_minus_obs_H_b3',\n",
       "       'pred_minus_obs_H_b4', 'pred_minus_obs_H_b5', 'pred_minus_obs_H_b6',\n",
       "       'pred_minus_obs_H_b7', 'pred_minus_obs_H_b8', 'pred_minus_obs_H_b9',\n",
       "       'pred_minus_obs_S_b1', 'pred_minus_obs_S_b2', 'pred_minus_obs_S_b3',\n",
       "       'pred_minus_obs_S_b4', 'pred_minus_obs_S_b5', 'pred_minus_obs_S_b6',\n",
       "       'pred_minus_obs_S_b7', 'pred_minus_obs_S_b8', 'pred_minus_obs_S_b9'],\n",
       "      dtype='object')"
      ]
     },
     "execution_count": 3,
     "metadata": {},
     "output_type": "execute_result"
    }
   ],
   "source": [
    "testing_stats.columns"
   ]
  },
  {
   "cell_type": "code",
   "execution_count": 4,
   "id": "f38d5e89",
   "metadata": {
    "scrolled": true
   },
   "outputs": [
    {
     "data": {
      "text/html": [
       "<div>\n",
       "<style scoped>\n",
       "    .dataframe tbody tr th:only-of-type {\n",
       "        vertical-align: middle;\n",
       "    }\n",
       "\n",
       "    .dataframe tbody tr th {\n",
       "        vertical-align: top;\n",
       "    }\n",
       "\n",
       "    .dataframe thead th {\n",
       "        text-align: right;\n",
       "    }\n",
       "</style>\n",
       "<table border=\"1\" class=\"dataframe\">\n",
       "  <thead>\n",
       "    <tr style=\"text-align: right;\">\n",
       "      <th></th>\n",
       "      <th>class</th>\n",
       "      <th>b1</th>\n",
       "      <th>b2</th>\n",
       "      <th>b3</th>\n",
       "      <th>b4</th>\n",
       "      <th>b5</th>\n",
       "      <th>b6</th>\n",
       "      <th>b7</th>\n",
       "      <th>b8</th>\n",
       "      <th>b9</th>\n",
       "      <th>...</th>\n",
       "      <th>pred_minus_obs_H_b9</th>\n",
       "      <th>pred_minus_obs_S_b1</th>\n",
       "      <th>pred_minus_obs_S_b2</th>\n",
       "      <th>pred_minus_obs_S_b3</th>\n",
       "      <th>pred_minus_obs_S_b4</th>\n",
       "      <th>pred_minus_obs_S_b5</th>\n",
       "      <th>pred_minus_obs_S_b6</th>\n",
       "      <th>pred_minus_obs_S_b7</th>\n",
       "      <th>pred_minus_obs_S_b8</th>\n",
       "      <th>pred_minus_obs_S_b9</th>\n",
       "    </tr>\n",
       "  </thead>\n",
       "  <tbody>\n",
       "    <tr>\n",
       "      <th>0</th>\n",
       "      <td>d</td>\n",
       "      <td>67</td>\n",
       "      <td>51</td>\n",
       "      <td>68</td>\n",
       "      <td>115</td>\n",
       "      <td>69</td>\n",
       "      <td>111</td>\n",
       "      <td>136</td>\n",
       "      <td>31</td>\n",
       "      <td>67</td>\n",
       "      <td>...</td>\n",
       "      <td>-9.17</td>\n",
       "      <td>-18.27</td>\n",
       "      <td>-1.80</td>\n",
       "      <td>-6.32</td>\n",
       "      <td>-20.88</td>\n",
       "      <td>-1.63</td>\n",
       "      <td>-6.13</td>\n",
       "      <td>-22.56</td>\n",
       "      <td>-5.53</td>\n",
       "      <td>-8.11</td>\n",
       "    </tr>\n",
       "    <tr>\n",
       "      <th>1</th>\n",
       "      <td>s</td>\n",
       "      <td>67</td>\n",
       "      <td>28</td>\n",
       "      <td>51</td>\n",
       "      <td>99</td>\n",
       "      <td>50</td>\n",
       "      <td>97</td>\n",
       "      <td>82</td>\n",
       "      <td>26</td>\n",
       "      <td>59</td>\n",
       "      <td>...</td>\n",
       "      <td>-2.25</td>\n",
       "      <td>-20.13</td>\n",
       "      <td>-2.11</td>\n",
       "      <td>-6.35</td>\n",
       "      <td>-21.94</td>\n",
       "      <td>-1.22</td>\n",
       "      <td>-6.13</td>\n",
       "      <td>-22.20</td>\n",
       "      <td>-3.41</td>\n",
       "      <td>-6.57</td>\n",
       "    </tr>\n",
       "    <tr>\n",
       "      <th>2</th>\n",
       "      <td>s</td>\n",
       "      <td>63</td>\n",
       "      <td>26</td>\n",
       "      <td>50</td>\n",
       "      <td>95</td>\n",
       "      <td>49</td>\n",
       "      <td>91</td>\n",
       "      <td>81</td>\n",
       "      <td>26</td>\n",
       "      <td>57</td>\n",
       "      <td>...</td>\n",
       "      <td>-0.44</td>\n",
       "      <td>-17.64</td>\n",
       "      <td>-1.81</td>\n",
       "      <td>-4.70</td>\n",
       "      <td>-19.39</td>\n",
       "      <td>-0.65</td>\n",
       "      <td>-5.01</td>\n",
       "      <td>-20.89</td>\n",
       "      <td>-3.96</td>\n",
       "      <td>-6.85</td>\n",
       "    </tr>\n",
       "    <tr>\n",
       "      <th>3</th>\n",
       "      <td>d</td>\n",
       "      <td>63</td>\n",
       "      <td>42</td>\n",
       "      <td>63</td>\n",
       "      <td>97</td>\n",
       "      <td>66</td>\n",
       "      <td>108</td>\n",
       "      <td>111</td>\n",
       "      <td>28</td>\n",
       "      <td>59</td>\n",
       "      <td>...</td>\n",
       "      <td>-2.34</td>\n",
       "      <td>-20.20</td>\n",
       "      <td>-1.89</td>\n",
       "      <td>-5.47</td>\n",
       "      <td>-21.65</td>\n",
       "      <td>-0.99</td>\n",
       "      <td>-5.71</td>\n",
       "      <td>-22.19</td>\n",
       "      <td>-3.41</td>\n",
       "      <td>-6.52</td>\n",
       "    </tr>\n",
       "    <tr>\n",
       "      <th>4</th>\n",
       "      <td>s</td>\n",
       "      <td>46</td>\n",
       "      <td>27</td>\n",
       "      <td>50</td>\n",
       "      <td>83</td>\n",
       "      <td>51</td>\n",
       "      <td>90</td>\n",
       "      <td>76</td>\n",
       "      <td>26</td>\n",
       "      <td>56</td>\n",
       "      <td>...</td>\n",
       "      <td>1.25</td>\n",
       "      <td>-18.62</td>\n",
       "      <td>-2.17</td>\n",
       "      <td>-7.11</td>\n",
       "      <td>-21.12</td>\n",
       "      <td>-1.56</td>\n",
       "      <td>-6.35</td>\n",
       "      <td>-22.19</td>\n",
       "      <td>-4.45</td>\n",
       "      <td>-7.32</td>\n",
       "    </tr>\n",
       "  </tbody>\n",
       "</table>\n",
       "<p>5 rows × 28 columns</p>\n",
       "</div>"
      ],
      "text/plain": [
       "  class  b1  b2  b3   b4  b5   b6   b7  b8  b9  ...  pred_minus_obs_H_b9  \\\n",
       "0     d  67  51  68  115  69  111  136  31  67  ...                -9.17   \n",
       "1     s  67  28  51   99  50   97   82  26  59  ...                -2.25   \n",
       "2     s  63  26  50   95  49   91   81  26  57  ...                -0.44   \n",
       "3     d  63  42  63   97  66  108  111  28  59  ...                -2.34   \n",
       "4     s  46  27  50   83  51   90   76  26  56  ...                 1.25   \n",
       "\n",
       "   pred_minus_obs_S_b1  pred_minus_obs_S_b2  pred_minus_obs_S_b3  \\\n",
       "0               -18.27                -1.80                -6.32   \n",
       "1               -20.13                -2.11                -6.35   \n",
       "2               -17.64                -1.81                -4.70   \n",
       "3               -20.20                -1.89                -5.47   \n",
       "4               -18.62                -2.17                -7.11   \n",
       "\n",
       "   pred_minus_obs_S_b4  pred_minus_obs_S_b5  pred_minus_obs_S_b6  \\\n",
       "0               -20.88                -1.63                -6.13   \n",
       "1               -21.94                -1.22                -6.13   \n",
       "2               -19.39                -0.65                -5.01   \n",
       "3               -21.65                -0.99                -5.71   \n",
       "4               -21.12                -1.56                -6.35   \n",
       "\n",
       "   pred_minus_obs_S_b7  pred_minus_obs_S_b8  pred_minus_obs_S_b9  \n",
       "0               -22.56                -5.53                -8.11  \n",
       "1               -22.20                -3.41                -6.57  \n",
       "2               -20.89                -3.96                -6.85  \n",
       "3               -22.19                -3.41                -6.52  \n",
       "4               -22.19                -4.45                -7.32  \n",
       "\n",
       "[5 rows x 28 columns]"
      ]
     },
     "execution_count": 4,
     "metadata": {},
     "output_type": "execute_result"
    }
   ],
   "source": [
    "training_stats.head()"
   ]
  },
  {
   "cell_type": "code",
   "execution_count": 5,
   "id": "f24fd7ac",
   "metadata": {
    "scrolled": false
   },
   "outputs": [
    {
     "data": {
      "text/html": [
       "<div>\n",
       "<style scoped>\n",
       "    .dataframe tbody tr th:only-of-type {\n",
       "        vertical-align: middle;\n",
       "    }\n",
       "\n",
       "    .dataframe tbody tr th {\n",
       "        vertical-align: top;\n",
       "    }\n",
       "\n",
       "    .dataframe thead th {\n",
       "        text-align: right;\n",
       "    }\n",
       "</style>\n",
       "<table border=\"1\" class=\"dataframe\">\n",
       "  <thead>\n",
       "    <tr style=\"text-align: right;\">\n",
       "      <th></th>\n",
       "      <th>class</th>\n",
       "      <th>b1</th>\n",
       "      <th>b2</th>\n",
       "      <th>b3</th>\n",
       "      <th>b4</th>\n",
       "      <th>b5</th>\n",
       "      <th>b6</th>\n",
       "      <th>b7</th>\n",
       "      <th>b8</th>\n",
       "      <th>b9</th>\n",
       "      <th>...</th>\n",
       "      <th>pred_minus_obs_H_b9</th>\n",
       "      <th>pred_minus_obs_S_b1</th>\n",
       "      <th>pred_minus_obs_S_b2</th>\n",
       "      <th>pred_minus_obs_S_b3</th>\n",
       "      <th>pred_minus_obs_S_b4</th>\n",
       "      <th>pred_minus_obs_S_b5</th>\n",
       "      <th>pred_minus_obs_S_b6</th>\n",
       "      <th>pred_minus_obs_S_b7</th>\n",
       "      <th>pred_minus_obs_S_b8</th>\n",
       "      <th>pred_minus_obs_S_b9</th>\n",
       "    </tr>\n",
       "  </thead>\n",
       "  <tbody>\n",
       "    <tr>\n",
       "      <th>0</th>\n",
       "      <td>d</td>\n",
       "      <td>39</td>\n",
       "      <td>36</td>\n",
       "      <td>57</td>\n",
       "      <td>91</td>\n",
       "      <td>59</td>\n",
       "      <td>101</td>\n",
       "      <td>93</td>\n",
       "      <td>27</td>\n",
       "      <td>60</td>\n",
       "      <td>...</td>\n",
       "      <td>-2.36</td>\n",
       "      <td>-18.41</td>\n",
       "      <td>-1.88</td>\n",
       "      <td>-6.43</td>\n",
       "      <td>-21.03</td>\n",
       "      <td>-1.60</td>\n",
       "      <td>-6.18</td>\n",
       "      <td>-22.50</td>\n",
       "      <td>-5.20</td>\n",
       "      <td>-7.86</td>\n",
       "    </tr>\n",
       "    <tr>\n",
       "      <th>1</th>\n",
       "      <td>h</td>\n",
       "      <td>84</td>\n",
       "      <td>30</td>\n",
       "      <td>57</td>\n",
       "      <td>112</td>\n",
       "      <td>51</td>\n",
       "      <td>98</td>\n",
       "      <td>92</td>\n",
       "      <td>26</td>\n",
       "      <td>62</td>\n",
       "      <td>...</td>\n",
       "      <td>-2.26</td>\n",
       "      <td>-16.27</td>\n",
       "      <td>-1.95</td>\n",
       "      <td>-6.25</td>\n",
       "      <td>-18.79</td>\n",
       "      <td>-1.99</td>\n",
       "      <td>-6.18</td>\n",
       "      <td>-23.41</td>\n",
       "      <td>-8.87</td>\n",
       "      <td>-10.83</td>\n",
       "    </tr>\n",
       "    <tr>\n",
       "      <th>2</th>\n",
       "      <td>s</td>\n",
       "      <td>53</td>\n",
       "      <td>25</td>\n",
       "      <td>49</td>\n",
       "      <td>99</td>\n",
       "      <td>51</td>\n",
       "      <td>93</td>\n",
       "      <td>84</td>\n",
       "      <td>26</td>\n",
       "      <td>58</td>\n",
       "      <td>...</td>\n",
       "      <td>-1.46</td>\n",
       "      <td>-15.92</td>\n",
       "      <td>-1.79</td>\n",
       "      <td>-4.64</td>\n",
       "      <td>-17.73</td>\n",
       "      <td>-0.48</td>\n",
       "      <td>-4.69</td>\n",
       "      <td>-19.97</td>\n",
       "      <td>-4.10</td>\n",
       "      <td>-7.07</td>\n",
       "    </tr>\n",
       "    <tr>\n",
       "      <th>3</th>\n",
       "      <td>s</td>\n",
       "      <td>59</td>\n",
       "      <td>26</td>\n",
       "      <td>49</td>\n",
       "      <td>103</td>\n",
       "      <td>47</td>\n",
       "      <td>92</td>\n",
       "      <td>82</td>\n",
       "      <td>25</td>\n",
       "      <td>56</td>\n",
       "      <td>...</td>\n",
       "      <td>2.68</td>\n",
       "      <td>-13.77</td>\n",
       "      <td>-2.53</td>\n",
       "      <td>-6.34</td>\n",
       "      <td>-22.03</td>\n",
       "      <td>-2.34</td>\n",
       "      <td>-6.60</td>\n",
       "      <td>-27.10</td>\n",
       "      <td>-7.99</td>\n",
       "      <td>-10.81</td>\n",
       "    </tr>\n",
       "    <tr>\n",
       "      <th>4</th>\n",
       "      <td>d</td>\n",
       "      <td>57</td>\n",
       "      <td>49</td>\n",
       "      <td>66</td>\n",
       "      <td>103</td>\n",
       "      <td>64</td>\n",
       "      <td>106</td>\n",
       "      <td>114</td>\n",
       "      <td>28</td>\n",
       "      <td>59</td>\n",
       "      <td>...</td>\n",
       "      <td>-2.94</td>\n",
       "      <td>-21.74</td>\n",
       "      <td>-1.64</td>\n",
       "      <td>-4.62</td>\n",
       "      <td>-23.74</td>\n",
       "      <td>-0.85</td>\n",
       "      <td>-5.50</td>\n",
       "      <td>-22.83</td>\n",
       "      <td>-2.74</td>\n",
       "      <td>-5.84</td>\n",
       "    </tr>\n",
       "  </tbody>\n",
       "</table>\n",
       "<p>5 rows × 28 columns</p>\n",
       "</div>"
      ],
      "text/plain": [
       "  class  b1  b2  b3   b4  b5   b6   b7  b8  b9  ...  pred_minus_obs_H_b9  \\\n",
       "0     d  39  36  57   91  59  101   93  27  60  ...                -2.36   \n",
       "1     h  84  30  57  112  51   98   92  26  62  ...                -2.26   \n",
       "2     s  53  25  49   99  51   93   84  26  58  ...                -1.46   \n",
       "3     s  59  26  49  103  47   92   82  25  56  ...                 2.68   \n",
       "4     d  57  49  66  103  64  106  114  28  59  ...                -2.94   \n",
       "\n",
       "   pred_minus_obs_S_b1  pred_minus_obs_S_b2  pred_minus_obs_S_b3  \\\n",
       "0               -18.41                -1.88                -6.43   \n",
       "1               -16.27                -1.95                -6.25   \n",
       "2               -15.92                -1.79                -4.64   \n",
       "3               -13.77                -2.53                -6.34   \n",
       "4               -21.74                -1.64                -4.62   \n",
       "\n",
       "   pred_minus_obs_S_b4  pred_minus_obs_S_b5  pred_minus_obs_S_b6  \\\n",
       "0               -21.03                -1.60                -6.18   \n",
       "1               -18.79                -1.99                -6.18   \n",
       "2               -17.73                -0.48                -4.69   \n",
       "3               -22.03                -2.34                -6.60   \n",
       "4               -23.74                -0.85                -5.50   \n",
       "\n",
       "   pred_minus_obs_S_b7  pred_minus_obs_S_b8  pred_minus_obs_S_b9  \n",
       "0               -22.50                -5.20                -7.86  \n",
       "1               -23.41                -8.87               -10.83  \n",
       "2               -19.97                -4.10                -7.07  \n",
       "3               -27.10                -7.99               -10.81  \n",
       "4               -22.83                -2.74                -5.84  \n",
       "\n",
       "[5 rows x 28 columns]"
      ]
     },
     "execution_count": 5,
     "metadata": {},
     "output_type": "execute_result"
    }
   ],
   "source": [
    "testing_stats.head()"
   ]
  },
  {
   "cell_type": "code",
   "execution_count": 6,
   "id": "570f36bb",
   "metadata": {},
   "outputs": [
    {
     "data": {
      "text/plain": [
       "(325, 28)"
      ]
     },
     "execution_count": 6,
     "metadata": {},
     "output_type": "execute_result"
    }
   ],
   "source": [
    "training_stats.shape"
   ]
  },
  {
   "cell_type": "code",
   "execution_count": 7,
   "id": "63479f81",
   "metadata": {},
   "outputs": [
    {
     "data": {
      "text/plain": [
       "(198, 28)"
      ]
     },
     "execution_count": 7,
     "metadata": {},
     "output_type": "execute_result"
    }
   ],
   "source": [
    "testing_stats.shape"
   ]
  },
  {
   "cell_type": "markdown",
   "id": "b2ee2eb4",
   "metadata": {},
   "source": [
    "We can see from these outputs that both data sets have 28 columns, including one categorical variable `class`, 3 different types of numeric variables including `b1-b9`, `pred_minus_obs_H_b1 - pred_minus_obs_H_b9`, and `pred_minus_obs_S_b1 - pred_minus_obs_S_b9`. In addition, training set has 325 rows while testing set has 198 rows in total."
   ]
  },
  {
   "cell_type": "markdown",
   "id": "99b74c20",
   "metadata": {},
   "source": [
    "### 1.3 Visualizing data \n",
    "\n",
    "#### We will visualize the data in `training.csv` file.\n",
    "First, we will look at the general distribution of all the variables in the dataframe. We do this by dividing the original dataframe into three dataframes: \n",
    " - `training_pred_H` contains columns whose names have `pred_minus_obs_H`,\n",
    " - `training_pred_S` contains columns whose names have `pred_minus_obs_S`,\n",
    " - `training_data` contains columns whose names do not have `pred_minus_obs`.\n",
    "\n",
    "And then we will look at the relationship of their columns separately.\n",
    "\n",
    "#### 1.3.1 Data preparation"
   ]
  },
  {
   "cell_type": "code",
   "execution_count": 8,
   "id": "ce6708fd",
   "metadata": {
    "scrolled": false
   },
   "outputs": [],
   "source": [
    "%matplotlib inline\n",
    "import matplotlib.pyplot as plt\n",
    "import numpy as np\n",
    "\n",
    "# prepare dataframes for data visualization:\n",
    "training_pred_H = training_stats.filter(regex='pred_minus_obs_H|class')\n",
    "training_pred_S = training_stats.filter(regex='pred_minus_obs_S|class')\n",
    "training_data = training_stats.filter(regex='^(?!pred_minus_obs)')"
   ]
  },
  {
   "cell_type": "markdown",
   "id": "49293b68",
   "metadata": {},
   "source": [
    "#### 1.3.2 Visualizing `pred_minus_obs_H`\n",
    "\n",
    "The following graphs are visualized by variables with `pred_minus_obs_H`.\n",
    "We can see that most of the variables are right-skewed, apart from `pred_minus_obs_H_b1`, `pred_minus_obs_H_b4`, `pred_minus_obs_H_b7`, whose distributions are more concentrated in the middle."
   ]
  },
  {
   "cell_type": "code",
   "execution_count": 9,
   "id": "409386eb",
   "metadata": {
    "scrolled": true
   },
   "outputs": [
    {
     "data": {
      "image/png": "[encoded data removed]",
      "text/plain": [
       "<Figure size 1080x720 with 9 Axes>"
      ]
     },
     "metadata": {
      "needs_background": "light"
     },
     "output_type": "display_data"
    }
   ],
   "source": [
    "training_pred_H.hist(bins=50, figsize=(15,10))\n",
    "plt.show()"
   ]
  },
  {
   "cell_type": "markdown",
   "id": "ff0a706e",
   "metadata": {},
   "source": [
    "#### 1.3.3 Visualizing `pred_minus_obs_S`\n",
    "\n",
    "The following graphs are visualized by variables with `pred_minus_obs_S`. The distributions of these variables are mostly concentrated in the middle."
   ]
  },
  {
   "cell_type": "code",
   "execution_count": 10,
   "id": "2b0348ae",
   "metadata": {
    "scrolled": true
   },
   "outputs": [
    {
     "data": {
      "image/png": "[encoded data removed]",
      "text/plain": [
       "<Figure size 1080x720 with 9 Axes>"
      ]
     },
     "metadata": {
      "needs_background": "light"
     },
     "output_type": "display_data"
    }
   ],
   "source": [
    "training_pred_S.hist(bins=50, figsize=(15,10))\n",
    "plt.show()"
   ]
  },
  {
   "cell_type": "markdown",
   "id": "5746a62c",
   "metadata": {},
   "source": [
    "#### 1.3.4 Visualizing `b1-b9`\n",
    "\n",
    "The following graphs are visualized by variables without `pred_minus_obs`. These variables are mostly left-skewed distributed, instead of `b1`, `b4`, and `b7`, whose distributions are more centered."
   ]
  },
  {
   "cell_type": "code",
   "execution_count": 11,
   "id": "919db86a",
   "metadata": {
    "scrolled": true
   },
   "outputs": [
    {
     "data": {
      "image/png": "[encoded data removed]",
      "text/plain": [
       "<Figure size 1080x720 with 9 Axes>"
      ]
     },
     "metadata": {
      "needs_background": "light"
     },
     "output_type": "display_data"
    }
   ],
   "source": [
    "training_data.hist(bins=50, figsize=(15,10))\n",
    "plt.show()"
   ]
  },
  {
   "cell_type": "markdown",
   "id": "14faf5a6",
   "metadata": {},
   "source": [
    "#### 1.3.5 Visualizing variables whose names contain `b1`\n",
    "\n",
    "We will then visualize variables which have \"b1\" in their names to see their relationships. We will use `scatter_matrix` to visualize the data.\n",
    "\n",
    "We can see from the scatter plots that `b1` and `pred_minus_obs_H_b1` may have a linear relation, while `pred_minus_obs_S_b1` does not have clear relationships with others. As for the histgrams, `b1` and `pred_minus_obs_S_b1` have left-skewed distribution while the distribution of `pred_minus_H_b1` is more right-skewed."
   ]
  },
  {
   "cell_type": "code",
   "execution_count": 12,
   "id": "36d60f14",
   "metadata": {
    "scrolled": true
   },
   "outputs": [
    {
     "data": {
      "image/png": "[encoded data removed]",
      "text/plain": [
       "<Figure size 864x576 with 9 Axes>"
      ]
     },
     "metadata": {
      "needs_background": "light"
     },
     "output_type": "display_data"
    }
   ],
   "source": [
    "from pandas.plotting import scatter_matrix\n",
    "\n",
    "attributes = [\"b1\", \"pred_minus_obs_H_b1\", \"pred_minus_obs_S_b1\"]\n",
    "scatter_matrix(training_stats[attributes], figsize=(12, 8))\n",
    "plt.show()"
   ]
  },
  {
   "cell_type": "markdown",
   "id": "0b820cba",
   "metadata": {},
   "source": [
    "#### 1.3.6 Visualizing `b1,b2` grouped by `class`\n",
    "\n",
    "In addition, we want to see some relationships of variables whose name without `pred_minus_obs`. We do this by grouping and visualizing the dataframe by `class` and take the relations between `b1` and `b2` as an example.\n",
    "\n",
    "We can see that `b1` and `b2` have different relations in different class labels. These two variables are mostly distributed in `class=d` and `class=s`. However, apart from a general positive relation between `b1` and `b2`, there are not other clear relations showed in the graphs."
   ]
  },
  {
   "cell_type": "code",
   "execution_count": 13,
   "id": "758f79b8",
   "metadata": {
    "scrolled": false
   },
   "outputs": [
    {
     "data": {
      "image/png": "[encoded data removed]",
      "text/plain": [
       "<Figure size 576x576 with 4 Axes>"
      ]
     },
     "metadata": {
      "needs_background": "light"
     },
     "output_type": "display_data"
    }
   ],
   "source": [
    "fig, axs = plt.subplots(figsize=(8,8), \n",
    "                        nrows=2, ncols=2, \n",
    "                        gridspec_kw=dict(hspace=0.4, wspace=0.4))\n",
    "\n",
    "targets = zip(training_data.groupby(\"class\"), axs.flatten())\n",
    "for (key, gp), ax in targets:\n",
    "    gp.plot.scatter(ax=ax, x=\"b1\", y=\"b2\")\n",
    "    ax.set_title('class = %c'%key)\n",
    "plt.show()"
   ]
  },
  {
   "cell_type": "markdown",
   "id": "6ad0ced8",
   "metadata": {},
   "source": [
    "## Section 2\n",
    "### Remove all the columns whose names begin with `pred_minus_obs`"
   ]
  },
  {
   "cell_type": "code",
   "execution_count": 14,
   "id": "6158762a",
   "metadata": {
    "scrolled": false
   },
   "outputs": [
    {
     "data": {
      "text/plain": [
       "Index(['class', 'b1', 'b2', 'b3', 'b4', 'b5', 'b6', 'b7', 'b8', 'b9'], dtype='object')"
      ]
     },
     "execution_count": 14,
     "metadata": {},
     "output_type": "execute_result"
    }
   ],
   "source": [
    "# remove columns for training set:\n",
    "training_stats = training_stats[training_stats.columns.drop(list(training_stats.filter(regex='pred_minus_obs')))]\n",
    "training_stats.columns"
   ]
  },
  {
   "cell_type": "code",
   "execution_count": 15,
   "id": "8a13b576",
   "metadata": {
    "scrolled": true
   },
   "outputs": [
    {
     "data": {
      "text/plain": [
       "Index(['class', 'b1', 'b2', 'b3', 'b4', 'b5', 'b6', 'b7', 'b8', 'b9'], dtype='object')"
      ]
     },
     "execution_count": 15,
     "metadata": {},
     "output_type": "execute_result"
    }
   ],
   "source": [
    "# remove columns for testing set:\n",
    "testing_stats = testing_stats[testing_stats.columns.drop(list(testing_stats.filter(regex='pred_minus_obs')))]\n",
    "testing_stats.columns"
   ]
  },
  {
   "cell_type": "markdown",
   "id": "d3308c6a",
   "metadata": {},
   "source": [
    "We can see from the outputs that the columns whose names begin with `pred_minus_obs` are no longer exist in both dataframes."
   ]
  },
  {
   "cell_type": "markdown",
   "id": "0959ee80",
   "metadata": {},
   "source": [
    "## Section 3 \n",
    "### Count the number of instances for each class label of training data"
   ]
  },
  {
   "cell_type": "code",
   "execution_count": 16,
   "id": "85fcd520",
   "metadata": {
    "scrolled": false
   },
   "outputs": [
    {
     "data": {
      "text/plain": [
       "s    136\n",
       "d    105\n",
       "o     46\n",
       "h     38\n",
       "Name: class, dtype: int64"
      ]
     },
     "execution_count": 16,
     "metadata": {},
     "output_type": "execute_result"
    }
   ],
   "source": [
    "training_stats['class'].value_counts()"
   ]
  },
  {
   "cell_type": "markdown",
   "id": "ecfee1c2",
   "metadata": {},
   "source": [
    "We can see that the `class` with value `o` and `h` have much less counts than `s` and `d`. So the training set may be imbalanced."
   ]
  },
  {
   "cell_type": "markdown",
   "id": "586f18f2",
   "metadata": {},
   "source": [
    "## Section 4 \n",
    "### Feature scaling\n",
    "\n",
    "We will use `StandardScaler` to do the feature scaling for both data sets. We do this by selecting all features (columns without `class`) first. And then fit transformation for both data sets.\n",
    "\n",
    "### 4.1 Data preparation"
   ]
  },
  {
   "cell_type": "code",
   "execution_count": 17,
   "id": "18d5daa9",
   "metadata": {},
   "outputs": [],
   "source": [
    "from sklearn.preprocessing import StandardScaler\n",
    "\n",
    "# instantiate the standard scaler\n",
    "scaler = StandardScaler()\n",
    "# select numeric columns for feature scaling\n",
    "features = training_stats.drop('class', axis=1).columns"
   ]
  },
  {
   "cell_type": "markdown",
   "id": "2b6524a0",
   "metadata": {},
   "source": [
    "### 4.1 Feature scaling for training set"
   ]
  },
  {
   "cell_type": "code",
   "execution_count": 18,
   "id": "cf2392d9",
   "metadata": {
    "scrolled": true
   },
   "outputs": [
    {
     "data": {
      "text/html": [
       "<div>\n",
       "<style scoped>\n",
       "    .dataframe tbody tr th:only-of-type {\n",
       "        vertical-align: middle;\n",
       "    }\n",
       "\n",
       "    .dataframe tbody tr th {\n",
       "        vertical-align: top;\n",
       "    }\n",
       "\n",
       "    .dataframe thead th {\n",
       "        text-align: right;\n",
       "    }\n",
       "</style>\n",
       "<table border=\"1\" class=\"dataframe\">\n",
       "  <thead>\n",
       "    <tr style=\"text-align: right;\">\n",
       "      <th></th>\n",
       "      <th>class</th>\n",
       "      <th>b1</th>\n",
       "      <th>b2</th>\n",
       "      <th>b3</th>\n",
       "      <th>b4</th>\n",
       "      <th>b5</th>\n",
       "      <th>b6</th>\n",
       "      <th>b7</th>\n",
       "      <th>b8</th>\n",
       "      <th>b9</th>\n",
       "    </tr>\n",
       "  </thead>\n",
       "  <tbody>\n",
       "    <tr>\n",
       "      <th>0</th>\n",
       "      <td>d</td>\n",
       "      <td>0.768240</td>\n",
       "      <td>0.866233</td>\n",
       "      <td>0.436060</td>\n",
       "      <td>1.695451</td>\n",
       "      <td>1.024724</td>\n",
       "      <td>1.252415</td>\n",
       "      <td>3.017089</td>\n",
       "      <td>0.487582</td>\n",
       "      <td>0.915332</td>\n",
       "    </tr>\n",
       "    <tr>\n",
       "      <th>1</th>\n",
       "      <td>s</td>\n",
       "      <td>0.768240</td>\n",
       "      <td>-0.712673</td>\n",
       "      <td>-0.698765</td>\n",
       "      <td>0.254401</td>\n",
       "      <td>-0.761240</td>\n",
       "      <td>-0.233114</td>\n",
       "      <td>-0.232568</td>\n",
       "      <td>-0.185016</td>\n",
       "      <td>0.013527</td>\n",
       "    </tr>\n",
       "    <tr>\n",
       "      <th>2</th>\n",
       "      <td>s</td>\n",
       "      <td>0.425981</td>\n",
       "      <td>-0.849969</td>\n",
       "      <td>-0.765519</td>\n",
       "      <td>-0.105862</td>\n",
       "      <td>-0.855238</td>\n",
       "      <td>-0.869769</td>\n",
       "      <td>-0.292747</td>\n",
       "      <td>-0.185016</td>\n",
       "      <td>-0.211924</td>\n",
       "    </tr>\n",
       "    <tr>\n",
       "      <th>3</th>\n",
       "      <td>d</td>\n",
       "      <td>0.425981</td>\n",
       "      <td>0.248400</td>\n",
       "      <td>0.102288</td>\n",
       "      <td>0.074270</td>\n",
       "      <td>0.742729</td>\n",
       "      <td>0.934087</td>\n",
       "      <td>1.512618</td>\n",
       "      <td>0.084023</td>\n",
       "      <td>0.013527</td>\n",
       "    </tr>\n",
       "    <tr>\n",
       "      <th>4</th>\n",
       "      <td>s</td>\n",
       "      <td>-1.028620</td>\n",
       "      <td>-0.781321</td>\n",
       "      <td>-0.765519</td>\n",
       "      <td>-1.186649</td>\n",
       "      <td>-0.667242</td>\n",
       "      <td>-0.975878</td>\n",
       "      <td>-0.593641</td>\n",
       "      <td>-0.185016</td>\n",
       "      <td>-0.324650</td>\n",
       "    </tr>\n",
       "  </tbody>\n",
       "</table>\n",
       "</div>"
      ],
      "text/plain": [
       "  class        b1        b2        b3        b4        b5        b6        b7  \\\n",
       "0     d  0.768240  0.866233  0.436060  1.695451  1.024724  1.252415  3.017089   \n",
       "1     s  0.768240 -0.712673 -0.698765  0.254401 -0.761240 -0.233114 -0.232568   \n",
       "2     s  0.425981 -0.849969 -0.765519 -0.105862 -0.855238 -0.869769 -0.292747   \n",
       "3     d  0.425981  0.248400  0.102288  0.074270  0.742729  0.934087  1.512618   \n",
       "4     s -1.028620 -0.781321 -0.765519 -1.186649 -0.667242 -0.975878 -0.593641   \n",
       "\n",
       "         b8        b9  \n",
       "0  0.487582  0.915332  \n",
       "1 -0.185016  0.013527  \n",
       "2 -0.185016 -0.211924  \n",
       "3  0.084023  0.013527  \n",
       "4 -0.185016 -0.324650  "
      ]
     },
     "execution_count": 18,
     "metadata": {},
     "output_type": "execute_result"
    }
   ],
   "source": [
    "training_prepared = training_stats.copy()\n",
    "training_prepared[features] =scaler.fit_transform(training_stats[features])\n",
    "training_prepared.head()"
   ]
  },
  {
   "cell_type": "markdown",
   "id": "2705937e",
   "metadata": {},
   "source": [
    "### 4.2 Feature scaling for testing set"
   ]
  },
  {
   "cell_type": "code",
   "execution_count": 19,
   "id": "856727af",
   "metadata": {
    "scrolled": true
   },
   "outputs": [
    {
     "data": {
      "text/html": [
       "<div>\n",
       "<style scoped>\n",
       "    .dataframe tbody tr th:only-of-type {\n",
       "        vertical-align: middle;\n",
       "    }\n",
       "\n",
       "    .dataframe tbody tr th {\n",
       "        vertical-align: top;\n",
       "    }\n",
       "\n",
       "    .dataframe thead th {\n",
       "        text-align: right;\n",
       "    }\n",
       "</style>\n",
       "<table border=\"1\" class=\"dataframe\">\n",
       "  <thead>\n",
       "    <tr style=\"text-align: right;\">\n",
       "      <th></th>\n",
       "      <th>class</th>\n",
       "      <th>b1</th>\n",
       "      <th>b2</th>\n",
       "      <th>b3</th>\n",
       "      <th>b4</th>\n",
       "      <th>b5</th>\n",
       "      <th>b6</th>\n",
       "      <th>b7</th>\n",
       "      <th>b8</th>\n",
       "      <th>b9</th>\n",
       "    </tr>\n",
       "  </thead>\n",
       "  <tbody>\n",
       "    <tr>\n",
       "      <th>0</th>\n",
       "      <td>d</td>\n",
       "      <td>-1.878797</td>\n",
       "      <td>-0.282233</td>\n",
       "      <td>-0.386594</td>\n",
       "      <td>-0.704879</td>\n",
       "      <td>0.021654</td>\n",
       "      <td>0.031221</td>\n",
       "      <td>0.154281</td>\n",
       "      <td>-0.188935</td>\n",
       "      <td>-0.114333</td>\n",
       "    </tr>\n",
       "    <tr>\n",
       "      <th>1</th>\n",
       "      <td>h</td>\n",
       "      <td>1.651376</td>\n",
       "      <td>-0.619549</td>\n",
       "      <td>-0.386594</td>\n",
       "      <td>0.717192</td>\n",
       "      <td>-0.625526</td>\n",
       "      <td>-0.237548</td>\n",
       "      <td>0.089970</td>\n",
       "      <td>-0.300603</td>\n",
       "      <td>0.090535</td>\n",
       "    </tr>\n",
       "    <tr>\n",
       "      <th>2</th>\n",
       "      <td>s</td>\n",
       "      <td>-0.780521</td>\n",
       "      <td>-0.900646</td>\n",
       "      <td>-0.849804</td>\n",
       "      <td>-0.163138</td>\n",
       "      <td>-0.625526</td>\n",
       "      <td>-0.685496</td>\n",
       "      <td>-0.424517</td>\n",
       "      <td>-0.300603</td>\n",
       "      <td>-0.319200</td>\n",
       "    </tr>\n",
       "    <tr>\n",
       "      <th>3</th>\n",
       "      <td>s</td>\n",
       "      <td>-0.309831</td>\n",
       "      <td>-0.844427</td>\n",
       "      <td>-0.849804</td>\n",
       "      <td>0.107733</td>\n",
       "      <td>-0.949116</td>\n",
       "      <td>-0.775085</td>\n",
       "      <td>-0.553139</td>\n",
       "      <td>-0.412272</td>\n",
       "      <td>-0.524067</td>\n",
       "    </tr>\n",
       "    <tr>\n",
       "      <th>4</th>\n",
       "      <td>d</td>\n",
       "      <td>-0.466728</td>\n",
       "      <td>0.448619</td>\n",
       "      <td>0.134518</td>\n",
       "      <td>0.107733</td>\n",
       "      <td>0.426142</td>\n",
       "      <td>0.479168</td>\n",
       "      <td>1.504812</td>\n",
       "      <td>-0.077266</td>\n",
       "      <td>-0.216766</td>\n",
       "    </tr>\n",
       "  </tbody>\n",
       "</table>\n",
       "</div>"
      ],
      "text/plain": [
       "  class        b1        b2        b3        b4        b5        b6        b7  \\\n",
       "0     d -1.878797 -0.282233 -0.386594 -0.704879  0.021654  0.031221  0.154281   \n",
       "1     h  1.651376 -0.619549 -0.386594  0.717192 -0.625526 -0.237548  0.089970   \n",
       "2     s -0.780521 -0.900646 -0.849804 -0.163138 -0.625526 -0.685496 -0.424517   \n",
       "3     s -0.309831 -0.844427 -0.849804  0.107733 -0.949116 -0.775085 -0.553139   \n",
       "4     d -0.466728  0.448619  0.134518  0.107733  0.426142  0.479168  1.504812   \n",
       "\n",
       "         b8        b9  \n",
       "0 -0.188935 -0.114333  \n",
       "1 -0.300603  0.090535  \n",
       "2 -0.300603 -0.319200  \n",
       "3 -0.412272 -0.524067  \n",
       "4 -0.077266 -0.216766  "
      ]
     },
     "execution_count": 19,
     "metadata": {},
     "output_type": "execute_result"
    }
   ],
   "source": [
    "# Performing feature scaling for testing set:\n",
    "testing_prepared = testing_stats.copy()\n",
    "testing_prepared[features]=scaler.fit_transform(testing_stats[features])\n",
    "testing_prepared.head()"
   ]
  },
  {
   "cell_type": "markdown",
   "id": "23ebf0b4",
   "metadata": {},
   "source": [
    "We can see from these outputs that the values of feature variables (`b1-b9`) have been scaled up by the `StandardScaler`."
   ]
  },
  {
   "cell_type": "markdown",
   "id": "d872ec0a",
   "metadata": {},
   "source": [
    "## Section 5 \n",
    "### Multi-class classification using SVM\n",
    "\n",
    "We first prepare data for building the model, and then instantiate `SVC` and fit the model to the training data in one-versus-one strategy by default.\n",
    "\n",
    "### 5.1 Data preparation"
   ]
  },
  {
   "cell_type": "code",
   "execution_count": 20,
   "id": "692317cb",
   "metadata": {
    "scrolled": false
   },
   "outputs": [
    {
     "data": {
      "text/plain": [
       "SVC(gamma='auto')"
      ]
     },
     "execution_count": 20,
     "metadata": {},
     "output_type": "execute_result"
    }
   ],
   "source": [
    "from sklearn.svm import SVC\n",
    "from sklearn.model_selection import GridSearchCV\n",
    "from sklearn.model_selection import cross_val_score\n",
    "\n",
    "\n",
    "\n",
    "# prepare training data for building the model\n",
    "X_train = training_prepared.drop('class', axis=1) # features\n",
    "y_train = training_prepared['class'] # target labels\n",
    "X_test = testing_prepared.drop('class', axis=1)\n",
    "y_test = testing_prepared['class']\n",
    "\n",
    "# fit the data using the one-versus-one strategy\n",
    "# set gamma to 'auto'\n",
    "svc = SVC(gamma='auto')\n",
    "svc.fit(X_train, y_train)"
   ]
  },
  {
   "cell_type": "markdown",
   "id": "6edc71fc",
   "metadata": {},
   "source": [
    "### 5.2 Grid search and 3-fold validation for SVM Classifier\n",
    "\n",
    "For hyperparameters, we will test different values of combinations of `C` and `kernel` to find out their optimal values. We do this by testing `C` in 5 different values and `kernel` in 4 different values. Using accuracy as the scoring strategy of grid search and 3-fold cross validation:"
   ]
  },
  {
   "cell_type": "code",
   "execution_count": 21,
   "id": "44188832",
   "metadata": {
    "scrolled": true
   },
   "outputs": [
    {
     "name": "stdout",
     "output_type": "stream",
     "text": [
      "{'C': 1, 'kernel': 'rbf'}\n"
     ]
    }
   ],
   "source": [
    "param_grid_svc = [{'C': [0.1, 1, 10, 100, 1000],  'kernel' : ['rbf', 'linear', 'poly', 'sigmoid']}]\n",
    "grid_search_svc = GridSearchCV(svc, param_grid_svc, cv=3, scoring='accuracy')\n",
    "grid_search_svc.fit(X_train, y_train)\n",
    "print(grid_search_svc.best_params_)"
   ]
  },
  {
   "cell_type": "markdown",
   "id": "9c80ca38",
   "metadata": {},
   "source": [
    "We can see from the output that the optimal values of combinations for `C` and `kernel` is `{'C': 1, 'kernel': 'rbf'}`, this means that this combination has the highest classification accuracy."
   ]
  },
  {
   "cell_type": "markdown",
   "id": "91a86a00",
   "metadata": {},
   "source": [
    "## Section 6 \n",
    "### Multi-class classification using SGDClassifier\n",
    "\n",
    "In this section, we will use `SGDClassifier` to fit the data in one-versus-all strategy by default. We will use `X_train`, `y_train` generated in section 5.\n",
    "### 6.1 Data preparation"
   ]
  },
  {
   "cell_type": "code",
   "execution_count": 22,
   "id": "52540223",
   "metadata": {},
   "outputs": [
    {
     "data": {
      "text/plain": [
       "SGDClassifier()"
      ]
     },
     "execution_count": 22,
     "metadata": {},
     "output_type": "execute_result"
    }
   ],
   "source": [
    "from sklearn.linear_model import SGDClassifier\n",
    "\n",
    "# Instantiate the classifier and fit the data\n",
    "sgdc = SGDClassifier()\n",
    "sgdc.fit(X_train, y_train)"
   ]
  },
  {
   "cell_type": "markdown",
   "id": "ba9b1bab",
   "metadata": {},
   "source": [
    "### 6.2 Grid search and 3-fold validation for SDGClassifier\n",
    "\n",
    "We choose `loss` and `random_state` as the two hyperparameters to be experimented. There are 5 different values for `loss` and 7 different values for `random_state`.\n",
    "\n",
    "Using grid search and 3-fold cross validation to find the optimal values:"
   ]
  },
  {
   "cell_type": "code",
   "execution_count": 23,
   "id": "65eb7dc2",
   "metadata": {},
   "outputs": [
    {
     "name": "stdout",
     "output_type": "stream",
     "text": [
      "{'loss': 'log', 'random_state': 50}\n"
     ]
    }
   ],
   "source": [
    "param_grid_sgdc = [{'loss':['hinge', 'log', 'modified_huber', 'squared_hinge', 'squared_error'], 'random_state':[5, 10, 20, 30, 40, 50, 60]}]\n",
    "grid_search_sgdc = GridSearchCV(sgdc, param_grid_sgdc, cv=3, scoring='accuracy')\n",
    "grid_search_sgdc.fit(X_train, y_train)\n",
    "print(grid_search_sgdc.best_params_)"
   ]
  },
  {
   "cell_type": "markdown",
   "id": "c0068e3a",
   "metadata": {},
   "source": [
    "We can see that the optimal value combination of these two hyperparameters is `{'loss': 'log', 'random_state': 50}`"
   ]
  },
  {
   "cell_type": "markdown",
   "id": "39057321",
   "metadata": {},
   "source": [
    "## Section 7\n",
    "### Performance comparsion\n",
    "\n",
    "We will compare SVM classifier and SGDClassifier by checking their confusion matrices and accuracies for the testing set.\n",
    "\n",
    "The prediction is made by applying the `best_estimator_` found in the grid search section, which can obtain the results predicted by the estimators which have highest accuracy scores for `SVC` and `SDGClassifier` separately.\n",
    "\n",
    "After that, we will apply `confusion_matrix` and `accuracy_score` from `sklearn.metrics` to perform the performance measurement for both classifier.\n",
    "\n",
    "### 7.1 Performance measurement for SVM Classifier"
   ]
  },
  {
   "cell_type": "code",
   "execution_count": 24,
   "id": "d9f88989",
   "metadata": {
    "scrolled": true
   },
   "outputs": [
    {
     "name": "stdout",
     "output_type": "stream",
     "text": [
      "Confusion matrix for SVM Classifier:\n",
      "\n",
      "         pred: d  pred: s  pred: h  pred: o\n",
      "true: d       53        0        0        1\n",
      "true: s        1       57        1        0\n",
      "true: h        0       22       26        0\n",
      "true: o        6        0        0       31\n",
      "\n",
      "\n",
      "Accuracy for SVM Classifier:\n",
      "\n",
      "0.8434343434343434\n"
     ]
    }
   ],
   "source": [
    "from sklearn.metrics import confusion_matrix\n",
    "from sklearn.metrics import accuracy_score\n",
    "\n",
    "# get the distinct values of class labels\n",
    "class_labels = training_prepared[\"class\"].unique()\n",
    "\n",
    "# prediction using svc model\n",
    "svc_pred = grid_search_svc.best_estimator_.predict(X_test)\n",
    "print(\"Confusion matrix for SVM Classifier:\\n\")\n",
    "cm_svc = confusion_matrix(y_true = y_test, y_pred = svc_pred, labels = class_labels)\n",
    "print(pd.DataFrame(cm_svc, index=[\"true: \" + e for e in class_labels], \n",
    "                   columns=[\"pred: \" + e for e in class_labels]))\n",
    "print(\"\\n\\nAccuracy for SVM Classifier:\\n\" )\n",
    "print(accuracy_score(y_test, svc_pred))"
   ]
  },
  {
   "cell_type": "markdown",
   "id": "7d309fdc",
   "metadata": {},
   "source": [
    "### 7.2 Performance measurement for SGDClassifier"
   ]
  },
  {
   "cell_type": "code",
   "execution_count": 25,
   "id": "bb088dfa",
   "metadata": {
    "scrolled": true
   },
   "outputs": [
    {
     "name": "stdout",
     "output_type": "stream",
     "text": [
      "Confusion matrix for SDGClassifer:\n",
      "\n",
      "         pred: d  pred: s  pred: h  pred: o\n",
      "true: d       53        0        0        1\n",
      "true: s        0       57        1        1\n",
      "true: h        1       21       26        0\n",
      "true: o        1        0        0       36\n",
      "\n",
      "\n",
      "Accuracy for SDGClassifer:\n",
      "\n",
      "0.8686868686868687\n"
     ]
    }
   ],
   "source": [
    "# prediction using sgdc model\n",
    "sgdc_pred = grid_search_sgdc.best_estimator_.predict(X_test)\n",
    "print(\"Confusion matrix for SDGClassifer:\\n\")\n",
    "cm_sgdc = confusion_matrix(y_true = y_test, y_pred = sgdc_pred, labels = class_labels)\n",
    "print(pd.DataFrame(cm_sgdc, index=[\"true: \" + e for e in class_labels], \n",
    "                   columns=[\"pred: \" + e for e in class_labels]))\n",
    "print(\"\\n\\nAccuracy for SDGClassifer:\\n\" )\n",
    "print(accuracy_score(y_test, sgdc_pred))"
   ]
  },
  {
   "cell_type": "markdown",
   "id": "d456a8ba",
   "metadata": {},
   "source": [
    "We can see from the output that both classifiers have very high rate of accuracies when predicting this testing data set. From the confusion matrices we can see that both of them can predict `d`, `s` with very high rate of accuracies, but they are all weak in predicting `h`. "
   ]
  }
 ],
 "metadata": {
  "kernelspec": {
   "display_name": "Python 3 (ipykernel)",
   "language": "python",
   "name": "python3"
  },
  "language_info": {
   "codemirror_mode": {
    "name": "ipython",
    "version": 3
   },
   "file_extension": ".py",
   "mimetype": "text/x-python",
   "name": "python",
   "nbconvert_exporter": "python",
   "pygments_lexer": "ipython3",
   "version": "3.8.5"
  }
 },
 "nbformat": 4,
 "nbformat_minor": 5
}
